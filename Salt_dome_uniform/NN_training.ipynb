{
 "cells": [
  {
   "cell_type": "code",
   "execution_count": 1,
   "id": "1b16812f",
   "metadata": {},
   "outputs": [],
   "source": [
    "import json\n",
    "from train_nn2 import *"
   ]
  },
  {
   "cell_type": "code",
   "execution_count": 2,
   "id": "a860e630",
   "metadata": {},
   "outputs": [],
   "source": [
    "nx=31\n",
    "ny=31\n",
    "direcoty_path=\"../Results/Nodes_\"+str((nx+1)*(ny+1))\n",
    "\n",
    "# Path to your JSON file\n",
    "filename = direcoty_path+ \"/data_1_parameter_final_uniform.json\"\n",
    "# Open and load the file\n",
    "with open(filename, 'r') as file:\n",
    "    data = json.load(file)\n",
    "\n",
    "# c = data[\"Gempy_Input\"]\n",
    "# u_data = data[\"PDE_Output\"]\n",
    "# J_data = data[\"PDE_Jacobian\"]\n",
    "# phi = data[\"Decoder_matrix\"]\n",
    "# u_shift = data[\"bias\"]\n",
    "# M_output = data[\"Mass_Matrix\"]"
   ]
  },
  {
   "cell_type": "code",
   "execution_count": 3,
   "id": "e3f6f3fa",
   "metadata": {},
   "outputs": [],
   "source": [
    "# for keys, values in data.items():\n",
    "#     print(keys)\n",
    "d = np.array(data[\"eigen-values\"])\n",
    "c = np.array(data[\"Gempy_Inputs\"])\n",
    "u_data = np.array(data[\"PDE_outputs\"])\n",
    "J_data = np.array(data[\"Jacobian\"])\n",
    "Mphi = np.array(data[\"Encoder_matrix\"])\n",
    "phi = np.array(data[\"Decoder_matrix\"])\n",
    "u_shift = np.array(data[\"bias\"])\n",
    "M_output = np.array(data[\"Mass_Matrix\"])"
   ]
  },
  {
   "cell_type": "code",
   "execution_count": 4,
   "id": "fd917e64",
   "metadata": {},
   "outputs": [
    {
     "name": "stderr",
     "output_type": "stream",
     "text": [
      "/var/folders/lr/h2867zhs72gcy61j6_cy0n0r0000gq/T/ipykernel_12677/718832458.py:2: RuntimeWarning: invalid value encountered in log10\n",
      "  plt.plot(np.arange(d.shape[0]), np.log10(d))\n"
     ]
    },
    {
     "data": {
      "text/plain": [
       "Text(0.5, 1.0, 'Eigenvalue distribution')"
      ]
     },
     "execution_count": 4,
     "metadata": {},
     "output_type": "execute_result"
    },
    {
     "data": {
      "image/png": "[encoded data removed]",
      "text/plain": [
       "<Figure size 640x480 with 1 Axes>"
      ]
     },
     "metadata": {},
     "output_type": "display_data"
    }
   ],
   "source": [
    "import matplotlib.pyplot as plt\n",
    "plt.plot(np.arange(d.shape[0]), np.log10(d))\n",
    "plt.xlabel(\"Index\")\n",
    "plt.ylabel(\"log10($\\lambda$)\")\n",
    "plt.title(\"Eigenvalue distribution\")"
   ]
  },
  {
   "cell_type": "code",
   "execution_count": 5,
   "id": "08c94b35",
   "metadata": {},
   "outputs": [
    {
     "name": "stdout",
     "output_type": "stream",
     "text": [
      "30\n"
     ]
    },
    {
     "data": {
      "text/plain": [
       "30"
      ]
     },
     "execution_count": 5,
     "metadata": {},
     "output_type": "execute_result"
    }
   ],
   "source": [
    "dK= c.shape[1]\n",
    "r = np.sum(d>=1e-20)\n",
    "print(r)\n",
    "r =30\n",
    "r"
   ]
  },
  {
   "cell_type": "code",
   "execution_count": 6,
   "id": "54c3a057",
   "metadata": {},
   "outputs": [
    {
     "data": {
      "text/plain": [
       "((3969, 30), (3969, 30))"
      ]
     },
     "execution_count": 6,
     "metadata": {},
     "output_type": "execute_result"
    }
   ],
   "source": [
    "Mphi_r = Mphi[:, :r]\n",
    "phi_r = phi[:,:r]\n",
    "Mphi_r.shape, phi_r.shape"
   ]
  },
  {
   "cell_type": "code",
   "execution_count": 7,
   "id": "06b6c4a5",
   "metadata": {},
   "outputs": [],
   "source": [
    "# Save to file\n",
    "np.save('./saved_model/Mphi_r.npy', Mphi_r)\n",
    "np.save('./saved_model/phi_r.npy', phi_r)\n",
    "np.save('./saved_model/u_shift.npy', u_shift)"
   ]
  },
  {
   "cell_type": "code",
   "execution_count": 8,
   "id": "c078a21f",
   "metadata": {},
   "outputs": [],
   "source": [
    "Dur = np.einsum('ru,duc->drc',Mphi_r.T,J_data)\n",
    "Dur_re = np.einsum('ru, duc->drc', phi_r, Dur)"
   ]
  },
  {
   "cell_type": "code",
   "execution_count": 9,
   "id": "aef6b61a",
   "metadata": {},
   "outputs": [
    {
     "name": "stdout",
     "output_type": "stream",
     "text": [
      "H1 accuracy :  tensor(1.0000, dtype=torch.float64)\n"
     ]
    }
   ],
   "source": [
    "Frobenius_norm = calulate_matrix_norm_square(torch.tensor(J_data), torch.tensor(Dur_re), torch.tensor(M_output))\n",
    "A_T_M_A = torch.einsum(\"bmi, mk, bkj->bij\", torch.tensor(J_data), torch.tensor(M_output), torch.tensor(J_data),)\n",
    "true_matrix_norm = torch.einsum(\"bii->b\", A_T_M_A)\n",
    "H1 = 1 - torch.sqrt(torch.sum((Frobenius_norm)/true_matrix_norm))\n",
    "print(\"H1 accuracy : \", H1)"
   ]
  },
  {
   "cell_type": "code",
   "execution_count": 10,
   "id": "a98279a8",
   "metadata": {},
   "outputs": [],
   "source": [
    "ur = np.einsum('ur,du->dr',Mphi_r,u_data)\n",
    "phi_r_I = torch.eye(ur.shape[1])\n",
    "bias_O = torch.zeros(ur.shape[1])\n",
    "Mass_Matrix_I = torch.eye(ur.shape[1])"
   ]
  },
  {
   "cell_type": "code",
   "execution_count": 11,
   "id": "7d3033be",
   "metadata": {},
   "outputs": [],
   "source": [
    "epoch = 400\n",
    "lr = 0.002\n",
    "# layer_sizes=[dK,4*dK,16*dK, r,r]\n",
    "layer_sizes=[dK,2*dK, 4*dK, 8*dK, 16*dK, r,r,r]\n",
    "#layer_sizes=[dK,dK, r,r]\n",
    "#nn_setup = NN_setup(Gempy_Inputs=c, PDE_outputs=ur, Jacobian=Dur, Decoder_matrix=phi_r_I, bias=bias_O, Mass_Matrix=Mass_Matrix_I)\n",
    "# nn_setup = NN_setup(Gempy_Inputs=c, PDE_outputs=u_data, Jacobian=J_data, Decoder_matrix=phi_r, bias=u_shift, Mass_Matrix=M_output, Model=\"0\")\n",
    "# nn_setup.train_network_M2(layer_sizes=layer_sizes, num_epochs=epoch, lr =lr)"
   ]
  },
  {
   "cell_type": "code",
   "execution_count": 12,
   "id": "2f2d6c35",
   "metadata": {},
   "outputs": [],
   "source": [
    "#nn_setup.train_network_Jacobian_full(layer_sizes=layer_sizes, num_epochs=epoch, scale_factor=10, lr=lr)"
   ]
  },
  {
   "cell_type": "code",
   "execution_count": 13,
   "id": "56de31d9",
   "metadata": {},
   "outputs": [
    {
     "name": "stdout",
     "output_type": "stream",
     "text": [
      "Using MPS device\n",
      "Train size: 8191,Valid size: 2730,  Test size: 2732\n",
      "Epoch [0/200], Train Loss: 0.0157, Val Loss: 0.0022\n",
      "Epoch [10/200], Train Loss: 0.0000, Val Loss: 0.0005\n",
      "Epoch [20/200], Train Loss: 0.0000, Val Loss: 0.0032\n",
      "Epoch [30/200], Train Loss: 0.0000, Val Loss: 0.0003\n",
      "Epoch [40/200], Train Loss: 0.0000, Val Loss: 0.0003\n",
      "Epoch [50/200], Train Loss: 0.0000, Val Loss: 0.0007\n",
      "Epoch [60/200], Train Loss: 0.0000, Val Loss: 0.0003\n",
      "Epoch [70/200], Train Loss: 0.0000, Val Loss: 0.0002\n",
      "Epoch [80/200], Train Loss: 0.0000, Val Loss: 0.0001\n",
      "Epoch [90/200], Train Loss: 0.0000, Val Loss: 0.0001\n",
      "Epoch [100/200], Train Loss: 0.0000, Val Loss: 0.0001\n",
      "Epoch [110/200], Train Loss: 0.0000, Val Loss: 0.0001\n",
      "Epoch [120/200], Train Loss: 0.0000, Val Loss: 0.0002\n",
      "Epoch [130/200], Train Loss: 0.0000, Val Loss: 0.0000\n",
      "Epoch [140/200], Train Loss: 0.0000, Val Loss: 0.0001\n",
      "Epoch [150/200], Train Loss: 0.0000, Val Loss: 0.0000\n",
      "Epoch [160/200], Train Loss: 0.0000, Val Loss: 0.0000\n",
      "Epoch [170/200], Train Loss: 0.0000, Val Loss: 0.0001\n",
      "Epoch [180/200], Train Loss: 0.0000, Val Loss: 0.0000\n",
      "Epoch [190/200], Train Loss: 0.0000, Val Loss: 0.0000\n",
      "Epoch [199/200], Train Loss: 0.0000, Val Loss: 0.0000\n",
      "L2 accuracy without Jacobian:  tensor(0.9995, device='mps:0')\n",
      "H1 accuracy :  tensor(0.8140, device='mps:0')\n"
     ]
    }
   ],
   "source": [
    "epoch=200\n",
    "nn_setup2 = NN_setup(Gempy_Inputs=c, PDE_outputs=u_data, Jacobian=J_data, Decoder_matrix=phi_r, bias=u_shift, Mass_Matrix=M_output, Model=\"s\")\n",
    "nn_setup2.train_network_M2(layer_sizes=layer_sizes, num_epochs=epoch, lr =lr)"
   ]
  },
  {
   "cell_type": "code",
   "execution_count": 14,
   "id": "534f0960",
   "metadata": {},
   "outputs": [
    {
     "name": "stdout",
     "output_type": "stream",
     "text": [
      "Epoch [0/200], Train Loss: 0.0126, Val Loss: 0.0131, L2 Loss: 0.0000, F2 Loss: 0.0013\n",
      "Epoch [10/200], Train Loss: 0.0060, Val Loss: 0.0060, L2 Loss: 0.0000, F2 Loss: 0.0006\n",
      "Epoch [20/200], Train Loss: 0.0044, Val Loss: 0.0039, L2 Loss: 0.0001, F2 Loss: 0.0004\n",
      "Epoch [30/200], Train Loss: 0.0033, Val Loss: 0.0034, L2 Loss: 0.0000, F2 Loss: 0.0003\n",
      "Epoch [40/200], Train Loss: 0.0026, Val Loss: 0.0023, L2 Loss: 0.0000, F2 Loss: 0.0003\n",
      "Epoch [50/200], Train Loss: 0.0009, Val Loss: 0.0009, L2 Loss: 0.0000, F2 Loss: 0.0001\n",
      "Epoch [60/200], Train Loss: 0.0006, Val Loss: 0.0006, L2 Loss: 0.0000, F2 Loss: 0.0001\n",
      "Epoch [70/200], Train Loss: 0.0006, Val Loss: 0.0006, L2 Loss: 0.0000, F2 Loss: 0.0001\n",
      "Epoch [80/200], Train Loss: 0.0005, Val Loss: 0.0005, L2 Loss: 0.0000, F2 Loss: 0.0000\n",
      "Epoch [90/200], Train Loss: 0.0005, Val Loss: 0.0004, L2 Loss: 0.0000, F2 Loss: 0.0000\n",
      "Epoch [100/200], Train Loss: 0.0004, Val Loss: 0.0004, L2 Loss: 0.0000, F2 Loss: 0.0000\n",
      "Epoch [110/200], Train Loss: 0.0004, Val Loss: 0.0004, L2 Loss: 0.0000, F2 Loss: 0.0000\n",
      "Epoch [120/200], Train Loss: 0.0004, Val Loss: 0.0004, L2 Loss: 0.0000, F2 Loss: 0.0000\n",
      "Epoch [130/200], Train Loss: 0.0004, Val Loss: 0.0003, L2 Loss: 0.0000, F2 Loss: 0.0000\n",
      "Epoch [140/200], Train Loss: 0.0004, Val Loss: 0.0004, L2 Loss: 0.0000, F2 Loss: 0.0000\n",
      "Epoch [150/200], Train Loss: 0.0004, Val Loss: 0.0004, L2 Loss: 0.0000, F2 Loss: 0.0000\n",
      "Epoch [160/200], Train Loss: 0.0004, Val Loss: 0.0006, L2 Loss: 0.0000, F2 Loss: 0.0000\n",
      "Epoch [170/200], Train Loss: 0.0003, Val Loss: 0.0003, L2 Loss: 0.0000, F2 Loss: 0.0000\n",
      "Epoch [180/200], Train Loss: 0.0003, Val Loss: 0.0003, L2 Loss: 0.0000, F2 Loss: 0.0000\n",
      "Epoch [190/200], Train Loss: 0.0003, Val Loss: 0.0003, L2 Loss: 0.0000, F2 Loss: 0.0000\n",
      "Epoch [199/200], Train Loss: 0.0002, Val Loss: 0.0002, L2 Loss: 0.0000, F2 Loss: 0.0000\n",
      "L2 accuracy with Jacobian:  tensor(0.9927, device='mps:0')\n",
      "H1 accuracy :  tensor(0.9778, device='mps:0')\n"
     ]
    }
   ],
   "source": [
    "epoch=200\n",
    "nn_setup2.train_network_Jacobian_full(layer_sizes=layer_sizes, num_epochs=epoch, scale_factor=10, lr=lr)"
   ]
  },
  {
   "cell_type": "code",
   "execution_count": 15,
   "id": "e9f58713",
   "metadata": {},
   "outputs": [],
   "source": [
    "#from train_nn_class import *"
   ]
  },
  {
   "cell_type": "code",
   "execution_count": 16,
   "id": "2016168d",
   "metadata": {},
   "outputs": [],
   "source": [
    "#nn_setup2 = NN_L2_setup(Gempy_Inputs=c, PDE_outputs=u_data, Jacobian=J_data,Encoder_matrix=Mphi_r.T, Decoder_matrix=phi_r, bias=u_shift, Mass_Matrix=M_output, Model=\"o\", preferred_device=\"cpu\")"
   ]
  },
  {
   "cell_type": "code",
   "execution_count": 17,
   "id": "73604f61",
   "metadata": {},
   "outputs": [],
   "source": [
    "#nn_setup2.train_network_M2(layer_sizes=layer_sizes, num_epochs=epoch, lr =lr)"
   ]
  },
  {
   "cell_type": "code",
   "execution_count": 18,
   "id": "55d86b3c",
   "metadata": {},
   "outputs": [],
   "source": [
    "#nn_setup2.train_network_Jacobian_full(layer_sizes=layer_sizes, num_epochs=epoch, scale_factor=10, lr=lr)"
   ]
  },
  {
   "cell_type": "code",
   "execution_count": 19,
   "id": "41578c21",
   "metadata": {},
   "outputs": [],
   "source": [
    "#nn_setup2.train_network_Jacobian_truncated(layer_sizes=layer_sizes, num_epochs=epoch, scale_factor=10, ran_size=5, lr=0.002)"
   ]
  }
 ],
 "metadata": {
  "kernelspec": {
   "display_name": "gempy_dino",
   "language": "python",
   "name": "python3"
  },
  "language_info": {
   "codemirror_mode": {
    "name": "ipython",
    "version": 3
   },
   "file_extension": ".py",
   "mimetype": "text/x-python",
   "name": "python",
   "nbconvert_exporter": "python",
   "pygments_lexer": "ipython3",
   "version": "3.10.13"
  }
 },
 "nbformat": 4,
 "nbformat_minor": 5
}
